{
 "cells": [
  {
   "cell_type": "markdown",
   "metadata": {},
   "source": [
    "# DADOS\n",
    "\n",
    "**Nombre:** David Leon\n",
    "\n",
    "#### *SIMULACION* "
   ]
  },
  {
   "cell_type": "code",
   "execution_count": 1,
   "metadata": {},
   "outputs": [],
   "source": [
    "#LIBRRIAS\n",
    "\n",
    "from collections import Counter\n",
    "import json\n",
    "import random\n",
    "import matplotlib.pyplot as plt"
   ]
  },
  {
   "cell_type": "code",
   "execution_count": 2,
   "metadata": {},
   "outputs": [],
   "source": [
    "def calculo_2_dados(num):\n",
    "    sumas_dados = []\n",
    "    for i in range(num):\n",
    "        dado_1 = random.randint(1, 6)\n",
    "        dado_2 = random.randint(1, 6)\n",
    "        sumas_dados.append(dado_1 + dado_2)\n",
    "    conteo_numeros = Counter(sumas_dados)\n",
    "    plt.title('Histograma para '+ str(num) +' valores')\n",
    "    plt.hist(sumas_dados, bins = num, width = 0.5, alpha = 0.7, edgecolor = 'black')\n",
    "    plt.grid(axis = 'y', alpha = 0.75)\n",
    "    plt.xlabel('Valor ', fontsize = 15)\n",
    "    plt.ylabel('Frecuencia ', fontsize = 15)\n",
    "    plt.xticks(range(0, max(conteo_numeros.keys()) + 1))\n",
    "    plt.show()\n",
    "    \n",
    "    for i in sorted(conteo_numeros.items()):\n",
    "        print(\"Valor: {} Porcentaje: {} %\".format(i[0], round((i[1]/num) * 100, 2)))"
   ]
  },
  {
   "cell_type": "code",
   "execution_count": 3,
   "metadata": {},
   "outputs": [
    {
     "data": {
      "image/png": "[encoded data removed]",
      "text/plain": [
       "<Figure size 432x288 with 1 Axes>"
      ]
     },
     "metadata": {
      "needs_background": "light"
     },
     "output_type": "display_data"
    },
    {
     "name": "stdout",
     "output_type": "stream",
     "text": [
      "Valor: 2 Porcentaje: 3.0 %\n",
      "Valor: 3 Porcentaje: 4.0 %\n",
      "Valor: 4 Porcentaje: 8.0 %\n",
      "Valor: 5 Porcentaje: 6.0 %\n",
      "Valor: 6 Porcentaje: 9.0 %\n",
      "Valor: 7 Porcentaje: 17.0 %\n",
      "Valor: 8 Porcentaje: 18.0 %\n",
      "Valor: 9 Porcentaje: 10.0 %\n",
      "Valor: 10 Porcentaje: 15.0 %\n",
      "Valor: 11 Porcentaje: 8.0 %\n",
      "Valor: 12 Porcentaje: 2.0 %\n"
     ]
    }
   ],
   "source": [
    "calculo_2_dados(100)"
   ]
  },
  {
   "cell_type": "code",
   "execution_count": null,
   "metadata": {},
   "outputs": [],
   "source": []
  }
 ],
 "metadata": {
  "kernelspec": {
   "display_name": "Python 3",
   "language": "python",
   "name": "python3"
  },
  "language_info": {
   "codemirror_mode": {
    "name": "ipython",
    "version": 3
   },
   "file_extension": ".py",
   "mimetype": "text/x-python",
   "name": "python",
   "nbconvert_exporter": "python",
   "pygments_lexer": "ipython3",
   "version": "3.8.5"
  }
 },
 "nbformat": 4,
 "nbformat_minor": 4
}
