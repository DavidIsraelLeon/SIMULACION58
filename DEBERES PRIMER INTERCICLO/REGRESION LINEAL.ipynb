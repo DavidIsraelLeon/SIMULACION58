{
 "cells": [
  {
   "cell_type": "markdown",
   "metadata": {},
   "source": [
    "# EXAMEN INTERCICLO\n",
    "\n",
    "**Nombre:** David Leon\n",
    "\n",
    "#### *SIMULACION* "
   ]
  },
  {
   "cell_type": "code",
   "execution_count": 1,
   "metadata": {},
   "outputs": [],
   "source": [
    "import matplotlib.pyplot as plt\n",
    "import numpy as np\n",
    "import math as mt\n",
    "import numpy as np"
   ]
  },
  {
   "cell_type": "code",
   "execution_count": 2,
   "metadata": {},
   "outputs": [],
   "source": [
    "def ecuacion_recta(): \n",
    "    x = np.random.random(20)*10 \n",
    "    #print(x)\n",
    "    y = np.random.random(20)*10 \n",
    "    #print(y)\n",
    "    #return x,y\n",
    "    X = np.array(x.reshape((20,1)))\n",
    "    Y = np.array(y.reshape((20,1)))\n",
    "    print(X)\n",
    "    print(Y)\n",
    "    \"\"\"plt.plot(X, Y, 'o')\n",
    "    plt.axhline(y = 0, color = \"blue\")\n",
    "    plt.axvline(x = 0, color = \"blue\")\n",
    "    plt.grid()\n",
    "    plt.show()\"\"\"\n",
    "    \n",
    "    ex=sum(X)\n",
    "    ey=sum(Y)\n",
    "    exy=sum(X*Y)\n",
    "    exx=sum(X*X)\n",
    "    lon=len(X)\n",
    "    m=(lon*exy-ex*ey)/(lon*exx-mt.pow(abs(ex),2))\n",
    "    b=(ey*exx-ex*exy)/(lon*exx-mt.pow(abs(ex),2))\n",
    "    ecua=\"\"\n",
    "    m=round(m[0],4)\n",
    "    b=round(b[0],4)\n",
    "    if (b < 0):\n",
    "        ecua='y = {}x {}'\n",
    "    else:\n",
    "        ecua='y = {}x + {}'\n",
    "    print(ecua.format(m,b))\n",
    "    fu=lambda x: m*x+b\n",
    "    li=np.arange(min(X)-5.0,max(X)+5.0,0.5)\n",
    "    plt.plot(X,Y,'o')\n",
    "    plt.axhline(y=0,color=\"red\")\n",
    "    plt.axvline(x=0,color=\"red\")\n",
    "    plt.plot(li,fu(li))\n",
    "    plt.grid(True)\n",
    "    plt.show()"
   ]
  },
  {
   "cell_type": "code",
   "execution_count": 3,
   "metadata": {},
   "outputs": [
    {
     "name": "stdout",
     "output_type": "stream",
     "text": [
      "[[0.02859038]\n",
      " [4.08227561]\n",
      " [7.22827427]\n",
      " [8.61989789]\n",
      " [0.55215252]\n",
      " [7.76850831]\n",
      " [5.7604233 ]\n",
      " [9.98882515]\n",
      " [4.33306808]\n",
      " [2.21137173]\n",
      " [0.37330902]\n",
      " [1.16061141]\n",
      " [1.20651423]\n",
      " [1.00663021]\n",
      " [2.26947856]\n",
      " [3.15181507]\n",
      " [3.86366231]\n",
      " [2.61059681]\n",
      " [6.38652406]\n",
      " [5.32928513]]\n",
      "[[5.36480609]\n",
      " [2.97725338]\n",
      " [6.92305364]\n",
      " [1.67554318]\n",
      " [5.27762217]\n",
      " [6.09781942]\n",
      " [1.84542869]\n",
      " [0.32024387]\n",
      " [6.83618665]\n",
      " [0.67496699]\n",
      " [2.93423913]\n",
      " [1.19144144]\n",
      " [8.99676112]\n",
      " [9.56687387]\n",
      " [2.02954558]\n",
      " [4.96610244]\n",
      " [6.85389057]\n",
      " [3.99599049]\n",
      " [7.17251888]\n",
      " [8.26813362]]\n",
      "y = -0.1447x + 5.2621\n"
     ]
    },
    {
     "data": {
      "image/png": "[encoded data removed]",
      "text/plain": [
       "<Figure size 432x288 with 1 Axes>"
      ]
     },
     "metadata": {
      "needs_background": "light"
     },
     "output_type": "display_data"
    }
   ],
   "source": [
    "ecuacion_recta()"
   ]
  },
  {
   "cell_type": "code",
   "execution_count": null,
   "metadata": {},
   "outputs": [],
   "source": []
  }
 ],
 "metadata": {
  "kernelspec": {
   "display_name": "Python 3",
   "language": "python",
   "name": "python3"
  },
  "language_info": {
   "codemirror_mode": {
    "name": "ipython",
    "version": 3
   },
   "file_extension": ".py",
   "mimetype": "text/x-python",
   "name": "python",
   "nbconvert_exporter": "python",
   "pygments_lexer": "ipython3",
   "version": "3.8.5"
  }
 },
 "nbformat": 4,
 "nbformat_minor": 4
}
