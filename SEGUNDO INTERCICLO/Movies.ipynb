{
 "cells": [
  {
   "cell_type": "markdown",
   "metadata": {},
   "source": [
    "# UNIVERSIDAD POLITECNICA SALESIANA CUENCA\n",
    "   \n",
    "   ### SIMULACION \n",
    "   \n",
    "   ##### ESTUDIANTE: DAVID ISRAEL LEON GALLARDO\n",
    "   \n",
    "   ### TITULO ####\n",
    "   ### MOVIES ###"
   ]
  },
  {
   "cell_type": "code",
   "execution_count": 13,
   "metadata": {},
   "outputs": [],
   "source": [
    "import collections\n",
    "import random\n",
    "import simpy"
   ]
  },
  {
   "cell_type": "code",
   "execution_count": 16,
   "metadata": {},
   "outputs": [],
   "source": [
    "def ventaBoletos(env, num_boletos, pelicula, teatro):\n",
    "      with teatro.contador.request() as turno:\n",
    "        resultado = yield turno | teatro.sold_out[pelicula]\n",
    "        if turno not in resultado:\n",
    "            teatro.num_renegados[pelicula] += 1\n",
    "            return\n",
    "        if teatro.num_boletos[pelicula] < num_boletos:\n",
    "            yield env.timeout(0.5) \n",
    "            return\n",
    "        teatro.num_boletos[pelicula] -= num_boletos\n",
    "        if teatro.num_boletos[pelicula] < 2:\n",
    "            teatro.sold_out[pelicula].succeed()\n",
    "            teatro.tiempo_agotado[pelicula] = env.now\n",
    "            teatro.num_boletos[pelicula] = 0\n",
    "            yield env.timeout(1)\n",
    "\n",
    "\n",
    "def llegadaClientes(env, teatro):\n",
    "      while True:\n",
    "        yield env.timeout(random.expovariate(1/0.5))\n",
    "        pelicula = random.choices(teatro.peliculas, teatro.probabilidad, k=1)\n",
    "        num_boletos = random.randint(1, 6)\n",
    "        if teatro.num_boletos[pelicula[0]]:\n",
    "              env.process(ventaBoletos(env, num_boletos, pelicula[0], teatro))\n",
    "\n",
    "\n",
    "def process_run(vel,nboleto,tsimulacion):\n",
    "    print(\"proceso run\")\n",
    "    \n",
    "    VELOCIDAD_LLEGADA = vel\n",
    "    NUM_BOLETO = nboleto\n",
    "    TIEMPO_SIMULACION = tsimulacion\n",
    "    \n",
    "    resultado = \"\"\n",
    "    \n",
    "    Teatro = collections.namedtuple('Teatro', 'contador, peliculas, probabilidad, num_boletos, sold_out, tiempo_agotado, num_renegados')\n",
    "\n",
    "    print('MULTICINES CUENCA')\n",
    "    \n",
    "    resultado = \"MULTICINES CUENCA ECUADOR\"\n",
    "    env = simpy.Environment()\n",
    "\n",
    "    contador = simpy.Resource(env,capacity=1)\n",
    "    peliculas = ['80 HORAS', 'LUPIN', 'TITANIC','BARCELONA', 'EMELEC', 'CASA DE PAPEL']\n",
    "    \n",
    "    resultado = resultado +\"\\n\"\n",
    "    \n",
    "    probabilidad=[0.1, 0.3, 0.6,0.2,0.8,0.7]\n",
    "    num_boletos = {pelicula: NUM_BOLETO for pelicula in peliculas}\n",
    "    sold_out = {pelicula: env.event() for pelicula in peliculas}\n",
    "    tiempo_agotado = {pelicula: None for pelicula in peliculas}\n",
    "    num_renegados = {pelicula: 0 for pelicula in peliculas}\n",
    "\n",
    "    teatro = Teatro(contador, peliculas, probabilidad, num_boletos, sold_out, tiempo_agotado, num_renegados)\n",
    "    env.process(llegadaClientes(env, teatro))\n",
    "    env.run(until=TIEMPO_SIMULACION)\n",
    "\n",
    "    # Analisis y resultados\n",
    "    for pelicula in peliculas:\n",
    "        if teatro.sold_out[pelicula]:\n",
    "            print('Pelicula: %s se agoto en el tiempo %.1f despues de salir a la venta' %(pelicula, teatro.tiempo_agotado[pelicula]))\n",
    "            sms1 = 'Pelicula: %s se agoto en el tiempo %.1f despues de salir a la venta' %(pelicula, teatro.tiempo_agotado[pelicula])\n",
    "            \n",
    "            print('Numero de personas que salieron de la fila/renegados %s' %teatro.num_renegados[pelicula])\n",
    "            sms2 = 'Numero de personas que salieron de la fila/renegados %s' %teatro.num_renegados[pelicula]\n",
    "            \n",
    "            resultado = resultado + \"\\n\" + sms1 +\"\\n\"+ sms2\n",
    "    return resultado"
   ]
  },
  {
   "cell_type": "code",
   "execution_count": 17,
   "metadata": {},
   "outputs": [
    {
     "name": "stdout",
     "output_type": "stream",
     "text": [
      "proceso run\n",
      "MULTICINES CUENCA\n",
      "Pelicula: 80 HORAS se agoto en el tiempo 77.4 despues de salir a la venta\n",
      "Numero de personas que salieron de la fila/renegados 0\n",
      "Pelicula: LUPIN se agoto en el tiempo 35.1 despues de salir a la venta\n",
      "Numero de personas que salieron de la fila/renegados 0\n",
      "Pelicula: TITANIC se agoto en el tiempo 19.7 despues de salir a la venta\n",
      "Numero de personas que salieron de la fila/renegados 0\n",
      "Pelicula: BARCELONA se agoto en el tiempo 28.4 despues de salir a la venta\n",
      "Numero de personas que salieron de la fila/renegados 0\n",
      "Pelicula: EMELEC se agoto en el tiempo 4.3 despues de salir a la venta\n",
      "Numero de personas que salieron de la fila/renegados 0\n",
      "Pelicula: CASA DE PAPEL se agoto en el tiempo 10.4 despues de salir a la venta\n",
      "Numero de personas que salieron de la fila/renegados 0\n",
      "Resultado=>  MULTICINES CUENCA ECUADOR\n",
      "\n",
      "Pelicula: 80 HORAS se agoto en el tiempo 77.4 despues de salir a la venta\n",
      "Numero de personas que salieron de la fila/renegados 0\n",
      "Pelicula: LUPIN se agoto en el tiempo 35.1 despues de salir a la venta\n",
      "Numero de personas que salieron de la fila/renegados 0\n",
      "Pelicula: TITANIC se agoto en el tiempo 19.7 despues de salir a la venta\n",
      "Numero de personas que salieron de la fila/renegados 0\n",
      "Pelicula: BARCELONA se agoto en el tiempo 28.4 despues de salir a la venta\n",
      "Numero de personas que salieron de la fila/renegados 0\n",
      "Pelicula: EMELEC se agoto en el tiempo 4.3 despues de salir a la venta\n",
      "Numero de personas que salieron de la fila/renegados 0\n",
      "Pelicula: CASA DE PAPEL se agoto en el tiempo 10.4 despues de salir a la venta\n",
      "Numero de personas que salieron de la fila/renegados 0\n"
     ]
    }
   ],
   "source": [
    "resp = process_run(vel=60,nboleto=20,tsimulacion=200)\n",
    "print(\"Resultado=> \",resp)\n"
   ]
  },
  {
   "cell_type": "code",
   "execution_count": null,
   "metadata": {},
   "outputs": [],
   "source": []
  }
 ],
 "metadata": {
  "kernelspec": {
   "display_name": "Python 3",
   "language": "python",
   "name": "python3"
  },
  "language_info": {
   "codemirror_mode": {
    "name": "ipython",
    "version": 3
   },
   "file_extension": ".py",
   "mimetype": "text/x-python",
   "name": "python",
   "nbconvert_exporter": "python",
   "pygments_lexer": "ipython3",
   "version": "3.8.5"
  }
 },
 "nbformat": 4,
 "nbformat_minor": 4
}
