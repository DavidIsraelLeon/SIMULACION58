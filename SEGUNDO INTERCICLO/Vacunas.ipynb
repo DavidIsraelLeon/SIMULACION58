{
 "cells": [
  {
   "cell_type": "markdown",
   "metadata": {},
   "source": [
    "   # UNIVERSIDAD POLITECNICA SALESIANA CUENCA\n",
    "   \n",
    "   ### SIMULACION \n",
    "   \n",
    "   ##### ESTUDIANTE: DAVID ISRAEL LEON GALLARDO\n",
    "   \n",
    "   ### TITULO ####\n",
    "   \n",
    "   ###### Utilizando las tarea de la predicción de llegadas de vacunas y el recinto de vacunación, realizar un sistema que permita simular y correlacionar el procesos de llegada/compras de vacuna con el procesos de vacunación, en donde si no se tiene un stock/número de vacunas las personas tendran que esperar/reasignar a otro día en donde exista vacunas dentro del establecimiento y realizar el proceso de vacunación"
   ]
  },
  {
   "cell_type": "code",
   "execution_count": null,
   "metadata": {},
   "outputs": [],
   "source": [
    "## instalamos las librerias\n",
    "pip install -U simpy"
   ]
  },
  {
   "cell_type": "markdown",
   "metadata": {},
   "source": [
    "## Recinto electoral de la Unviersidad Politecnica Salesiana\n",
    "\n",
    "##### Total de numero de puntos de vacunacion\n",
    " ###### PACIENTES = 39166"
   ]
  },
  {
   "cell_type": "code",
   "execution_count": 1,
   "metadata": {},
   "outputs": [
    {
     "name": "stdout",
     "output_type": "stream",
     "text": [
      "1 se coloca la vacuna en el tiempo 1\n",
      "1 se coloca la vacuna en el tiempo 2\n",
      "Llego la vacuna 0 en el tiempo 2\n",
      "1 se coloca la vacuna en el tiempo 3\n",
      "1 se coloca la vacuna en el tiempo 4\n",
      "1 se coloca la vacuna en el tiempo 5\n",
      "1 se coloca la vacuna en el tiempo 6\n",
      "1 se coloca la vacuna en el tiempo 7\n",
      "1 se coloca la vacuna en el tiempo 8\n",
      "1 se coloca la vacuna en el tiempo 9\n",
      "1 se coloca la vacuna en el tiempo 10\n",
      "1 se coloca la vacuna en el tiempo 11\n",
      "1 se coloca la vacuna en el tiempo 12\n",
      "1 se coloca la vacuna en el tiempo 13\n",
      "1 se coloca la vacuna en el tiempo 14\n",
      "1 se coloca la vacuna en el tiempo 15\n",
      "1 se coloca la vacuna en el tiempo 16\n",
      "1 se coloca la vacuna en el tiempo 17\n",
      "1 se coloca la vacuna en el tiempo 18\n",
      "1 se coloca la vacuna en el tiempo 19\n"
     ]
    }
   ],
   "source": [
    "import simpy\n",
    "def llegada_vacuna(env, bodega):\n",
    "    for i in range(39166):\n",
    "        yield env.timeout(2)\n",
    "        yield bodega.put(f' la vacuna llego a la bodega item:{i}')\n",
    "        print(f'Llego la vacuna {i} en el tiempo {env.now}')\n",
    "\n",
    "def paciente(nombre,env,bodega):\n",
    "    while True:\n",
    "        yield env.timeout(1)\n",
    "        print(f'{nombre} se coloca la vacuna en el tiempo {env.now}')\n",
    "env = simpy.Environment()\n",
    "bodega = simpy.Store(env, capacity=1)\n",
    "llegada = env.process(llegada_vacuna(env, bodega))\n",
    "paciente = env.process(paciente(\"1\",env, bodega))\n",
    "env.run(until=20)"
   ]
  },
  {
   "cell_type": "code",
   "execution_count": 2,
   "metadata": {},
   "outputs": [
    {
     "name": "stdout",
     "output_type": "stream",
     "text": [
      "Tiempo 1 se terminarón las vacunas PriorityItem(priority='P2', item='#0000')\n",
      "Tiempo 2 se terminarón las vacunas PriorityItem(priority='P0', item='#0001')\n",
      "Tiempo 3 se terminarón las vacunas PriorityItem(priority='P3', item='#0002')\n",
      "Se ha cambiado al paciente PriorityItem(priority='P2', item='#0000') en el tiempo 4\n",
      "Tiempo 4 se terminarón las vacunas PriorityItem(priority='P1', item='#0003')\n",
      "Se ha cambiado al paciente PriorityItem(priority='P0', item='#0001') en el tiempo 7\n",
      "Se ha cambiado al paciente PriorityItem(priority='P1', item='#0003') en el tiempo 10\n",
      "Se ha cambiado al paciente PriorityItem(priority='P3', item='#0002') en el tiempo 13\n"
     ]
    }
   ],
   "source": [
    "def vacuna_terminada(env, problemas):\n",
    "      for problema in [simpy.PriorityItem('P2','#0000'),simpy.PriorityItem('P0','#0001'),simpy.PriorityItem('P3','#0002'),simpy.PriorityItem('P1','#0003')]:\n",
    "        yield env.timeout(1)\n",
    "        print(f'Tiempo {env.now} se terminarón las vacunas {problema}')\n",
    "        yield problemas.put(problema)\n",
    "\n",
    "def cambio_punto(env,problemas):\n",
    "      while True:\n",
    "        problema = yield problemas.get()\n",
    "        yield env.timeout(3)\n",
    "        print(f'Se ha cambiado al paciente {problema} en el tiempo {env.now}')\n",
    "\n",
    "env = simpy.Environment()\n",
    "problemas = simpy.PriorityStore(env)\n",
    "env.process(vacuna_terminada(env,problemas))\n",
    "env.process(cambio_punto(env, problemas))\n",
    "env.run(until=20)"
   ]
  },
  {
   "cell_type": "code",
   "execution_count": null,
   "metadata": {},
   "outputs": [],
   "source": []
  }
 ],
 "metadata": {
  "kernelspec": {
   "display_name": "Python 3",
   "language": "python",
   "name": "python3"
  },
  "language_info": {
   "codemirror_mode": {
    "name": "ipython",
    "version": 3
   },
   "file_extension": ".py",
   "mimetype": "text/x-python",
   "name": "python",
   "nbconvert_exporter": "python",
   "pygments_lexer": "ipython3",
   "version": "3.8.5"
  }
 },
 "nbformat": 4,
 "nbformat_minor": 4
}
